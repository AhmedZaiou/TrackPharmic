{
 "cells": [
  {
   "cell_type": "code",
   "execution_count": 1,
   "metadata": {},
   "outputs": [],
   "source": [
    "import pandas as pd \n",
    "import ast"
   ]
  },
  {
   "cell_type": "code",
   "execution_count": 2,
   "metadata": {},
   "outputs": [],
   "source": [
    "from selenium import webdriver\n",
    "from selenium.webdriver.common.by import By\n",
    "from selenium.webdriver.chrome.options import Options\n",
    "from selenium.webdriver.chrome.service import Service\n",
    "import time\n",
    "import pandas as pd\n",
    "from selenium import webdriver\n",
    "from selenium.webdriver.chrome.options import Options\n",
    "from bs4 import BeautifulSoup\n",
    "import pandas as pd\n",
    "import tqdm"
   ]
  },
  {
   "cell_type": "code",
   "execution_count": 19,
   "metadata": {},
   "outputs": [],
   "source": [
    "\n",
    "data_traiter = pd.read_csv(\"/Users/ahmedzaiou/Documents/ProjetsApps/TrackPharmic/Datascraping/Medicament_pharma.csv\").dropna()"
   ]
  },
  {
   "cell_type": "code",
   "execution_count": 20,
   "metadata": {},
   "outputs": [],
   "source": [
    "data_traiter['Code_EAN_13'] = data_traiter['Code_EAN_13'].astype(int)\n",
    "data_traiter['Code_EAN_13'] = data_traiter['Code_EAN_13'].astype(str).str.replace(' ', '')"
   ]
  },
  {
   "cell_type": "code",
   "execution_count": 57,
   "metadata": {},
   "outputs": [],
   "source": [
    "\n",
    "import pymysql\n",
    "\n",
    "host = \"srv1905.hstgr.io\"\n",
    "user = \"u791384722_pharma\"\n",
    "password = \"@sCM^n4L\"\n",
    "database = \"u791384722_pharma\"\n",
    "\n",
    "       "
   ]
  },
  {
   "cell_type": "code",
   "execution_count": 55,
   "metadata": {},
   "outputs": [],
   "source": [
    "\n",
    "request = \"\"\"INSERT INTO Medicament (\n",
    "                    Code_EAN_13,\n",
    "                    Nom,\n",
    "                    Image_URL,\n",
    "                    Présentation,\n",
    "                    Dosage,\n",
    "                    Distributeur_ou_fabriquant,\n",
    "                    Composition,\n",
    "                    Classe_thérapeutique,\n",
    "                    Statut,\n",
    "                    Code_ATC,\n",
    "                    PPV,\n",
    "                    Prix_hospitalier,\n",
    "                    Tableau,\n",
    "                    Indications,\n",
    "                    Min_Stock,\n",
    "                    Stock_Actuel, \n",
    "                    url_medicament\n",
    "                ) VALUES (\n",
    "                    %s, %s, %s, %s, %s, %s, %s, %s, %s, %s, %s, %s, %s, %s, %s, %s, %s\n",
    "                );\"\"\"\n"
   ]
  },
  {
   "cell_type": "code",
   "execution_count": null,
   "metadata": {},
   "outputs": [],
   "source": []
  },
  {
   "cell_type": "code",
   "execution_count": 7,
   "metadata": {},
   "outputs": [],
   "source": [
    "import os\n",
    "import json\n",
    "\n",
    "def parcourir_dossier_json(chemin_dossier):\n",
    "    list_of_data = []\n",
    "    for fichier in os.listdir(chemin_dossier):\n",
    "        if fichier.endswith(\".json\"):  # on ne prend que les JSON\n",
    "            chemin_fichier = os.path.join(chemin_dossier, fichier)\n",
    "            with open(chemin_fichier, \"r\", encoding=\"utf-8\") as f:\n",
    "                try:\n",
    "                    values = json.load(f) \n",
    "                    Code_EAN_13 = values.get(\"Code_EAN_13\")\n",
    "                    Nom = values.get(\"Nom\")\n",
    "                    Image_URL = values.get(\"Image URL\")\n",
    "                    Présentation = values.get(\"Présentation\")\n",
    "                    Dosage = values.get(\"Dosage\")\n",
    "                    Distributeur_ou_fabriquant = values.get(\"Distributeur ou fabriquant\")\n",
    "                    Composition = values.get(\"Composition\")\n",
    "                    Classe_thérapeutique = values.get(\"Classe thérapeutique\")\n",
    "                    Statut = values.get(\"Statut\")\n",
    "                    Code_ATC = values.get(\"Code ATC\")\n",
    "                    PPV = values.get(\"PPV\")\n",
    "                    Prix_hospitalier = values.get(\"Prix hospitalier\")\n",
    "                    Tableau = values.get(\"Tableau\")\n",
    "                    Indications = values.get(\"Indication(s)\")\n",
    "                    Min_Stock = 0\n",
    "                    Stock_Actuel = 0\n",
    "                    url_medicament = values.get(\"url\")\n",
    "                    list_of_data.append(values)\n",
    "                except json.JSONDecodeError:\n",
    "                    print(f\"Erreur : {fichier} n'est pas un JSON valide.\")\n",
    "    return pd.DataFrame(list_of_data)\n",
    "\n",
    "# Exemple d'utilisation\n",
    "data_scraped = parcourir_dossier_json(\"/Users/ahmedzaiou/Documents/ProjetsApps/TrackPharmic/Datascraping/medicaments\")"
   ]
  },
  {
   "cell_type": "code",
   "execution_count": 8,
   "metadata": {},
   "outputs": [],
   "source": [
    "data_scraped = data_scraped[[\"Code_EAN_13\", \"Nom\", \"Image URL\", \"Présentation\", \"Dosage\", \"Distributeur ou fabriquant\",\"Composition\", \"Classe thérapeutique\",  \"Statut\",\"Code ATC\"\n",
    "                             , \"PPV\", \"Prix hospitalier\", \"Tableau\", \"Indication(s)\", \"url\"]]"
   ]
  },
  {
   "cell_type": "code",
   "execution_count": null,
   "metadata": {},
   "outputs": [],
   "source": []
  },
  {
   "cell_type": "code",
   "execution_count": 31,
   "metadata": {},
   "outputs": [],
   "source": [
    "list_new = []\n",
    "for i in data_scraped['Code_EAN_13'].values:\n",
    "    if i not in data_traiter['Code_EAN_13'].values:\n",
    "        list_new.append(i)\n",
    "        "
   ]
  },
  {
   "cell_type": "code",
   "execution_count": 46,
   "metadata": {},
   "outputs": [],
   "source": [
    "data_to_add = data_scraped[data_scraped['Code_EAN_13'].isin(list_new)]"
   ]
  },
  {
   "cell_type": "code",
   "execution_count": 48,
   "metadata": {},
   "outputs": [
    {
     "name": "stderr",
     "output_type": "stream",
     "text": [
      "/var/folders/c0/8qnp310s191511w2thxjfqkr0000gn/T/ipykernel_81192/1271771800.py:1: SettingWithCopyWarning: \n",
      "A value is trying to be set on a copy of a slice from a DataFrame\n",
      "\n",
      "See the caveats in the documentation: https://pandas.pydata.org/pandas-docs/stable/user_guide/indexing.html#returning-a-view-versus-a-copy\n",
      "  data_to_add.dropna(subset=['PPV'], inplace=True)\n"
     ]
    }
   ],
   "source": [
    "data_to_add.dropna(subset=['PPV'], inplace=True)"
   ]
  },
  {
   "cell_type": "code",
   "execution_count": 49,
   "metadata": {},
   "outputs": [
    {
     "name": "stdout",
     "output_type": "stream",
     "text": [
      "<class 'pandas.core.frame.DataFrame'>\n",
      "Index: 646 entries, 0 to 2657\n",
      "Data columns (total 15 columns):\n",
      " #   Column                      Non-Null Count  Dtype  \n",
      "---  ------                      --------------  -----  \n",
      " 0   Code_EAN_13                 646 non-null    object \n",
      " 1   Nom                         646 non-null    object \n",
      " 2   Image URL                   646 non-null    object \n",
      " 3   Présentation                646 non-null    object \n",
      " 4   Dosage                      577 non-null    object \n",
      " 5   Distributeur ou fabriquant  646 non-null    object \n",
      " 6   Composition                 646 non-null    object \n",
      " 7   Classe thérapeutique        593 non-null    object \n",
      " 8   Statut                      646 non-null    object \n",
      " 9   Code ATC                    616 non-null    object \n",
      " 10  PPV                         646 non-null    float64\n",
      " 11  Prix hospitalier            640 non-null    float64\n",
      " 12  Tableau                     618 non-null    object \n",
      " 13  Indication(s)               541 non-null    object \n",
      " 14  url                         646 non-null    object \n",
      "dtypes: float64(2), object(13)\n",
      "memory usage: 80.8+ KB\n"
     ]
    }
   ],
   "source": [
    "data_to_add.info()"
   ]
  },
  {
   "cell_type": "code",
   "execution_count": 59,
   "metadata": {},
   "outputs": [],
   "source": [
    "conn = pymysql.connect(\n",
    "                    host=host, user=user, password=password, database=database\n",
    "                )   \n",
    "for index, values in data_to_add.iterrows():\n",
    "    Code_EAN_13 = values.get(\"Code_EAN_13\")\n",
    "    Nom = values.get(\"Nom\")\n",
    "    Image_URL = values.get(\"Image URL\")\n",
    "    Présentation = values.get(\"Présentation\")\n",
    "    Dosage = values.get(\"Dosage\") if pd.notna(values.get(\"Dosage\")) else \"\"\n",
    "    Distributeur_ou_fabriquant = values.get(\"Distributeur ou fabriquant\")\n",
    "    Composition = values.get(\"Composition\")\n",
    "    Classe_thérapeutique = values.get(\"Classe thérapeutique\") if pd.notna(values.get(\"Classe thérapeutique\")) else \"\"\n",
    "    Statut = values.get(\"Statut\")\n",
    "    Code_ATC = values.get(\"Code ATC\") if pd.notna(values.get(\"Code ATC\")) else \"\"\n",
    "    PPV = values.get(\"PPV\")\n",
    "    Prix_hospitalier = values.get(\"Prix hospitalier\") if pd.notna(values.get(\"Prix hospitalier\")) else 0\n",
    "    Tableau = values.get(\"Tableau\") if pd.notna(values.get(\"Tableau\")) else \"\"\n",
    "    Indications = values.get(\"Indication(s)\") if pd.notna(values.get(\"Indication(s)\")) else \"\"\n",
    "    Min_Stock = 0\n",
    "    Stock_Actuel = 0\n",
    "    url_medicament = values.get(\"url\")\n",
    "    cursor = conn.cursor(pymysql.cursors.DictCursor)\n",
    "    cursor.execute(\n",
    "        request,\n",
    "        (\n",
    "            Code_EAN_13,\n",
    "            Nom,\n",
    "            Image_URL,\n",
    "            Présentation,\n",
    "            Dosage,\n",
    "            Distributeur_ou_fabriquant,\n",
    "            Composition,\n",
    "            Classe_thérapeutique,\n",
    "            Statut,\n",
    "            Code_ATC,\n",
    "            PPV,\n",
    "            Prix_hospitalier,\n",
    "            Tableau,\n",
    "            Indications,\n",
    "            Min_Stock,\n",
    "            Stock_Actuel,\n",
    "            url_medicament,\n",
    "        ),\n",
    "    )\n",
    "    conn.commit()\n",
    "\n",
    "    "
   ]
  }
 ],
 "metadata": {
  "kernelspec": {
   "display_name": "env4",
   "language": "python",
   "name": "python3"
  },
  "language_info": {
   "codemirror_mode": {
    "name": "ipython",
    "version": 3
   },
   "file_extension": ".py",
   "mimetype": "text/x-python",
   "name": "python",
   "nbconvert_exporter": "python",
   "pygments_lexer": "ipython3",
   "version": "3.11.8"
  }
 },
 "nbformat": 4,
 "nbformat_minor": 2
}
