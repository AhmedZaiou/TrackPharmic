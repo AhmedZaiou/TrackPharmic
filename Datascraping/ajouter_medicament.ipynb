{
 "cells": [
  {
   "cell_type": "code",
   "execution_count": 1,
   "metadata": {},
   "outputs": [],
   "source": [
    "import pandas as pd \n",
    "import ast"
   ]
  },
  {
   "cell_type": "code",
   "execution_count": 2,
   "metadata": {},
   "outputs": [],
   "source": [
    "from selenium import webdriver\n",
    "from selenium.webdriver.common.by import By\n",
    "from selenium.webdriver.chrome.options import Options\n",
    "from selenium.webdriver.chrome.service import Service\n",
    "import time\n",
    "import pandas as pd\n",
    "from selenium import webdriver\n",
    "from selenium.webdriver.chrome.options import Options\n",
    "from bs4 import BeautifulSoup\n",
    "import pandas as pd\n",
    "import tqdm"
   ]
  },
  {
   "cell_type": "code",
   "execution_count": 19,
   "metadata": {},
   "outputs": [],
   "source": [
    "\n",
    "data_traiter = pd.read_csv(\"/Users/ahmedzaiou/Documents/ProjetsApps/TrackPharmic/Datascraping/Medicament_pharma.csv\").dropna()"
   ]
  },
  {
   "cell_type": "code",
   "execution_count": 20,
   "metadata": {},
   "outputs": [],
   "source": [
    "data_traiter['Code_EAN_13'] = data_traiter['Code_EAN_13'].astype(int)\n",
    "data_traiter['Code_EAN_13'] = data_traiter['Code_EAN_13'].astype(str).str.replace(' ', '')"
   ]
  },
  {
   "cell_type": "code",
   "execution_count": 57,
   "metadata": {},
   "outputs": [],
   "source": [
    "\n",
    "import pymysql\n",
    "\n",
    "host = \"srv1905.hstgr.io\"\n",
    "user = \"u791384722_pharma\"\n",
    "password = \"@sCM^n4L\"\n",
    "database = \"u791384722_pharma\"\n",
    "\n",
    "       "
   ]
  },
  {
   "cell_type": "code",
   "execution_count": 55,
   "metadata": {},
   "outputs": [],
   "source": [
    "\n",
    "request = \"\"\"INSERT INTO Medicament (\n",
    "                    Code_EAN_13,\n",
    "                    Nom,\n",
    "                    Image_URL,\n",
    "                    Présentation,\n",
    "                    Dosage,\n",
    "                    Distributeur_ou_fabriquant,\n",
    "                    Composition,\n",
    "                    Classe_thérapeutique,\n",
    "                    Statut,\n",
    "                    Code_ATC,\n",
    "                    PPV,\n",
    "                    Prix_hospitalier,\n",
    "                    Tableau,\n",
    "                    Indications,\n",
    "                    Min_Stock,\n",
    "                    Stock_Actuel, \n",
    "                    url_medicament\n",
    "                ) VALUES (\n",
    "                    %s, %s, %s, %s, %s, %s, %s, %s, %s, %s, %s, %s, %s, %s, %s, %s, %s\n",
    "                );\"\"\"\n"
   ]
  },
  {
   "cell_type": "code",
   "execution_count": null,
   "metadata": {},
   "outputs": [],
   "source": []
  },
  {
   "cell_type": "code",
   "execution_count": 7,
   "metadata": {},
   "outputs": [],
   "source": [
    "import os\n",
    "import json\n",
    "\n",
    "def parcourir_dossier_json(chemin_dossier):\n",
    "    list_of_data = []\n",
    "    for fichier in os.listdir(chemin_dossier):\n",
    "        if fichier.endswith(\".json\"):  # on ne prend que les JSON\n",
    "            chemin_fichier = os.path.join(chemin_dossier, fichier)\n",
    "            with open(chemin_fichier, \"r\", encoding=\"utf-8\") as f:\n",
    "                try:\n",
    "                    values = json.load(f) \n",
    "                    Code_EAN_13 = values.get(\"Code_EAN_13\")\n",
    "                    Nom = values.get(\"Nom\")\n",
    "                    Image_URL = values.get(\"Image URL\")\n",
    "                    Présentation = values.get(\"Présentation\")\n",
    "                    Dosage = values.get(\"Dosage\")\n",
    "                    Distributeur_ou_fabriquant = values.get(\"Distributeur ou fabriquant\")\n",
    "                    Composition = values.get(\"Composition\")\n",
    "                    Classe_thérapeutique = values.get(\"Classe thérapeutique\")\n",
    "                    Statut = values.get(\"Statut\")\n",
    "                    Code_ATC = values.get(\"Code ATC\")\n",
    "                    PPV = values.get(\"PPV\")\n",
    "                    Prix_hospitalier = values.get(\"Prix hospitalier\")\n",
    "                    Tableau = values.get(\"Tableau\")\n",
    "                    Indications = values.get(\"Indication(s)\")\n",
    "                    Min_Stock = 0\n",
    "                    Stock_Actuel = 0\n",
    "                    url_medicament = values.get(\"url\")\n",
    "                    list_of_data.append(values)\n",
    "                except json.JSONDecodeError:\n",
    "                    print(f\"Erreur : {fichier} n'est pas un JSON valide.\")\n",
    "    return pd.DataFrame(list_of_data)\n",
    "\n",
    "# Exemple d'utilisation\n",
    "data_scraped = parcourir_dossier_json(\"/Users/ahmedzaiou/Documents/ProjetsApps/TrackPharmic/Datascraping/medicaments\")"
   ]
  },
  {
   "cell_type": "code",
   "execution_count": 8,
   "metadata": {},
   "outputs": [],
   "source": [
    "data_scraped = data_scraped[[\"Code_EAN_13\", \"Nom\", \"Image URL\", \"Présentation\", \"Dosage\", \"Distributeur ou fabriquant\",\"Composition\", \"Classe thérapeutique\",  \"Statut\",\"Code ATC\"\n",
    "                             , \"PPV\", \"Prix hospitalier\", \"Tableau\", \"Indication(s)\", \"url\"]]"
   ]
  },
  {
   "cell_type": "code",
   "execution_count": null,
   "metadata": {},
   "outputs": [],
   "source": []
  },
  {
   "cell_type": "code",
   "execution_count": 31,
   "metadata": {},
   "outputs": [],
   "source": [
    "list_new = []\n",
    "for i in data_scraped['Code_EAN_13'].values:\n",
    "    if i not in data_traiter['Code_EAN_13'].values:\n",
    "        list_new.append(i)\n",
    "        "
   ]
  },
  {
   "cell_type": "code",
   "execution_count": 46,
   "metadata": {},
   "outputs": [],
   "source": [
    "data_to_add = data_scraped[data_scraped['Code_EAN_13'].isin(list_new)]"
   ]
  },
  {
   "cell_type": "code",
   "execution_count": 48,
   "metadata": {},
   "outputs": [
    {
     "name": "stderr",
     "output_type": "stream",
     "text": [
      "/var/folders/c0/8qnp310s191511w2thxjfqkr0000gn/T/ipykernel_81192/1271771800.py:1: SettingWithCopyWarning: \n",
      "A value is trying to be set on a copy of a slice from a DataFrame\n",
      "\n",
      "See the caveats in the documentation: https://pandas.pydata.org/pandas-docs/stable/user_guide/indexing.html#returning-a-view-versus-a-copy\n",
      "  data_to_add.dropna(subset=['PPV'], inplace=True)\n"
     ]
    }
   ],
   "source": [
    "data_to_add.dropna(subset=['PPV'], inplace=True)"
   ]
  },
  {
   "cell_type": "code",
   "execution_count": 49,
   "metadata": {},
   "outputs": [
    {
     "name": "stdout",
     "output_type": "stream",
     "text": [
      "<class 'pandas.core.frame.DataFrame'>\n",
      "Index: 646 entries, 0 to 2657\n",
      "Data columns (total 15 columns):\n",
      " #   Column                      Non-Null Count  Dtype  \n",
      "---  ------                      --------------  -----  \n",
      " 0   Code_EAN_13                 646 non-null    object \n",
      " 1   Nom                         646 non-null    object \n",
      " 2   Image URL                   646 non-null    object \n",
      " 3   Présentation                646 non-null    object \n",
      " 4   Dosage                      577 non-null    object \n",
      " 5   Distributeur ou fabriquant  646 non-null    object \n",
      " 6   Composition                 646 non-null    object \n",
      " 7   Classe thérapeutique        593 non-null    object \n",
      " 8   Statut                      646 non-null    object \n",
      " 9   Code ATC                    616 non-null    object \n",
      " 10  PPV                         646 non-null    float64\n",
      " 11  Prix hospitalier            640 non-null    float64\n",
      " 12  Tableau                     618 non-null    object \n",
      " 13  Indication(s)               541 non-null    object \n",
      " 14  url                         646 non-null    object \n",
      "dtypes: float64(2), object(13)\n",
      "memory usage: 80.8+ KB\n"
     ]
    }
   ],
   "source": [
    "data_to_add.info()"
   ]
  },
  {
   "cell_type": "code",
   "execution_count": 58,
   "metadata": {},
   "outputs": [
    {
     "ename": "ProgrammingError",
     "evalue": "nan can not be used with MySQL",
     "output_type": "error",
     "traceback": [
      "\u001b[31m---------------------------------------------------------------------------\u001b[39m",
      "\u001b[31mProgrammingError\u001b[39m                          Traceback (most recent call last)",
      "\u001b[36mCell\u001b[39m\u001b[36m \u001b[39m\u001b[32mIn[58]\u001b[39m\u001b[32m, line 23\u001b[39m\n\u001b[32m     21\u001b[39m url_medicament = values.get(\u001b[33m\"\u001b[39m\u001b[33murl\u001b[39m\u001b[33m\"\u001b[39m)\n\u001b[32m     22\u001b[39m cursor = conn.cursor(pymysql.cursors.DictCursor)\n\u001b[32m---> \u001b[39m\u001b[32m23\u001b[39m \u001b[43mcursor\u001b[49m\u001b[43m.\u001b[49m\u001b[43mexecute\u001b[49m\u001b[43m(\u001b[49m\n\u001b[32m     24\u001b[39m \u001b[43m    \u001b[49m\u001b[43mrequest\u001b[49m\u001b[43m,\u001b[49m\n\u001b[32m     25\u001b[39m \u001b[43m    \u001b[49m\u001b[43m(\u001b[49m\n\u001b[32m     26\u001b[39m \u001b[43m        \u001b[49m\u001b[43mCode_EAN_13\u001b[49m\u001b[43m,\u001b[49m\n\u001b[32m     27\u001b[39m \u001b[43m        \u001b[49m\u001b[43mNom\u001b[49m\u001b[43m,\u001b[49m\n\u001b[32m     28\u001b[39m \u001b[43m        \u001b[49m\u001b[43mImage_URL\u001b[49m\u001b[43m,\u001b[49m\n\u001b[32m     29\u001b[39m \u001b[43m        \u001b[49m\u001b[43mPrésentation\u001b[49m\u001b[43m,\u001b[49m\n\u001b[32m     30\u001b[39m \u001b[43m        \u001b[49m\u001b[43mDosage\u001b[49m\u001b[43m,\u001b[49m\n\u001b[32m     31\u001b[39m \u001b[43m        \u001b[49m\u001b[43mDistributeur_ou_fabriquant\u001b[49m\u001b[43m,\u001b[49m\n\u001b[32m     32\u001b[39m \u001b[43m        \u001b[49m\u001b[43mComposition\u001b[49m\u001b[43m,\u001b[49m\n\u001b[32m     33\u001b[39m \u001b[43m        \u001b[49m\u001b[43mClasse_thérapeutique\u001b[49m\u001b[43m,\u001b[49m\n\u001b[32m     34\u001b[39m \u001b[43m        \u001b[49m\u001b[43mStatut\u001b[49m\u001b[43m,\u001b[49m\n\u001b[32m     35\u001b[39m \u001b[43m        \u001b[49m\u001b[43mCode_ATC\u001b[49m\u001b[43m,\u001b[49m\n\u001b[32m     36\u001b[39m \u001b[43m        \u001b[49m\u001b[43mPPV\u001b[49m\u001b[43m,\u001b[49m\n\u001b[32m     37\u001b[39m \u001b[43m        \u001b[49m\u001b[43mPrix_hospitalier\u001b[49m\u001b[43m,\u001b[49m\n\u001b[32m     38\u001b[39m \u001b[43m        \u001b[49m\u001b[43mTableau\u001b[49m\u001b[43m,\u001b[49m\n\u001b[32m     39\u001b[39m \u001b[43m        \u001b[49m\u001b[43mIndications\u001b[49m\u001b[43m,\u001b[49m\n\u001b[32m     40\u001b[39m \u001b[43m        \u001b[49m\u001b[43mMin_Stock\u001b[49m\u001b[43m,\u001b[49m\n\u001b[32m     41\u001b[39m \u001b[43m        \u001b[49m\u001b[43mStock_Actuel\u001b[49m\u001b[43m,\u001b[49m\n\u001b[32m     42\u001b[39m \u001b[43m        \u001b[49m\u001b[43murl_medicament\u001b[49m\u001b[43m,\u001b[49m\n\u001b[32m     43\u001b[39m \u001b[43m    \u001b[49m\u001b[43m)\u001b[49m\u001b[43m,\u001b[49m\n\u001b[32m     44\u001b[39m \u001b[43m\u001b[49m\u001b[43m)\u001b[49m\n\u001b[32m     45\u001b[39m conn.commit()\n",
      "\u001b[36mFile \u001b[39m\u001b[32m~/Documents/ProjetsApps/TrackPharmic/env4/lib/python3.11/site-packages/pymysql/cursors.py:151\u001b[39m, in \u001b[36mCursor.execute\u001b[39m\u001b[34m(self, query, args)\u001b[39m\n\u001b[32m    148\u001b[39m \u001b[38;5;28;01mwhile\u001b[39;00m \u001b[38;5;28mself\u001b[39m.nextset():\n\u001b[32m    149\u001b[39m     \u001b[38;5;28;01mpass\u001b[39;00m\n\u001b[32m--> \u001b[39m\u001b[32m151\u001b[39m query = \u001b[38;5;28;43mself\u001b[39;49m\u001b[43m.\u001b[49m\u001b[43mmogrify\u001b[49m\u001b[43m(\u001b[49m\u001b[43mquery\u001b[49m\u001b[43m,\u001b[49m\u001b[43m \u001b[49m\u001b[43margs\u001b[49m\u001b[43m)\u001b[49m\n\u001b[32m    153\u001b[39m result = \u001b[38;5;28mself\u001b[39m._query(query)\n\u001b[32m    154\u001b[39m \u001b[38;5;28mself\u001b[39m._executed = query\n",
      "\u001b[36mFile \u001b[39m\u001b[32m~/Documents/ProjetsApps/TrackPharmic/env4/lib/python3.11/site-packages/pymysql/cursors.py:129\u001b[39m, in \u001b[36mCursor.mogrify\u001b[39m\u001b[34m(self, query, args)\u001b[39m\n\u001b[32m    126\u001b[39m conn = \u001b[38;5;28mself\u001b[39m._get_db()\n\u001b[32m    128\u001b[39m \u001b[38;5;28;01mif\u001b[39;00m args \u001b[38;5;129;01mis\u001b[39;00m \u001b[38;5;129;01mnot\u001b[39;00m \u001b[38;5;28;01mNone\u001b[39;00m:\n\u001b[32m--> \u001b[39m\u001b[32m129\u001b[39m     query = query % \u001b[38;5;28;43mself\u001b[39;49m\u001b[43m.\u001b[49m\u001b[43m_escape_args\u001b[49m\u001b[43m(\u001b[49m\u001b[43margs\u001b[49m\u001b[43m,\u001b[49m\u001b[43m \u001b[49m\u001b[43mconn\u001b[49m\u001b[43m)\u001b[49m\n\u001b[32m    131\u001b[39m \u001b[38;5;28;01mreturn\u001b[39;00m query\n",
      "\u001b[36mFile \u001b[39m\u001b[32m~/Documents/ProjetsApps/TrackPharmic/env4/lib/python3.11/site-packages/pymysql/cursors.py:102\u001b[39m, in \u001b[36mCursor._escape_args\u001b[39m\u001b[34m(self, args, conn)\u001b[39m\n\u001b[32m    100\u001b[39m \u001b[38;5;28;01mdef\u001b[39;00m\u001b[38;5;250m \u001b[39m\u001b[34m_escape_args\u001b[39m(\u001b[38;5;28mself\u001b[39m, args, conn):\n\u001b[32m    101\u001b[39m     \u001b[38;5;28;01mif\u001b[39;00m \u001b[38;5;28misinstance\u001b[39m(args, (\u001b[38;5;28mtuple\u001b[39m, \u001b[38;5;28mlist\u001b[39m)):\n\u001b[32m--> \u001b[39m\u001b[32m102\u001b[39m         \u001b[38;5;28;01mreturn\u001b[39;00m \u001b[38;5;28;43mtuple\u001b[39;49m\u001b[43m(\u001b[49m\u001b[43mconn\u001b[49m\u001b[43m.\u001b[49m\u001b[43mliteral\u001b[49m\u001b[43m(\u001b[49m\u001b[43marg\u001b[49m\u001b[43m)\u001b[49m\u001b[43m \u001b[49m\u001b[38;5;28;43;01mfor\u001b[39;49;00m\u001b[43m \u001b[49m\u001b[43marg\u001b[49m\u001b[43m \u001b[49m\u001b[38;5;129;43;01min\u001b[39;49;00m\u001b[43m \u001b[49m\u001b[43margs\u001b[49m\u001b[43m)\u001b[49m\n\u001b[32m    103\u001b[39m     \u001b[38;5;28;01melif\u001b[39;00m \u001b[38;5;28misinstance\u001b[39m(args, \u001b[38;5;28mdict\u001b[39m):\n\u001b[32m    104\u001b[39m         \u001b[38;5;28;01mreturn\u001b[39;00m {key: conn.literal(val) \u001b[38;5;28;01mfor\u001b[39;00m (key, val) \u001b[38;5;129;01min\u001b[39;00m args.items()}\n",
      "\u001b[36mFile \u001b[39m\u001b[32m~/Documents/ProjetsApps/TrackPharmic/env4/lib/python3.11/site-packages/pymysql/cursors.py:102\u001b[39m, in \u001b[36m<genexpr>\u001b[39m\u001b[34m(.0)\u001b[39m\n\u001b[32m    100\u001b[39m \u001b[38;5;28;01mdef\u001b[39;00m\u001b[38;5;250m \u001b[39m\u001b[34m_escape_args\u001b[39m(\u001b[38;5;28mself\u001b[39m, args, conn):\n\u001b[32m    101\u001b[39m     \u001b[38;5;28;01mif\u001b[39;00m \u001b[38;5;28misinstance\u001b[39m(args, (\u001b[38;5;28mtuple\u001b[39m, \u001b[38;5;28mlist\u001b[39m)):\n\u001b[32m--> \u001b[39m\u001b[32m102\u001b[39m         \u001b[38;5;28;01mreturn\u001b[39;00m \u001b[38;5;28mtuple\u001b[39m(\u001b[43mconn\u001b[49m\u001b[43m.\u001b[49m\u001b[43mliteral\u001b[49m\u001b[43m(\u001b[49m\u001b[43marg\u001b[49m\u001b[43m)\u001b[49m \u001b[38;5;28;01mfor\u001b[39;00m arg \u001b[38;5;129;01min\u001b[39;00m args)\n\u001b[32m    103\u001b[39m     \u001b[38;5;28;01melif\u001b[39;00m \u001b[38;5;28misinstance\u001b[39m(args, \u001b[38;5;28mdict\u001b[39m):\n\u001b[32m    104\u001b[39m         \u001b[38;5;28;01mreturn\u001b[39;00m {key: conn.literal(val) \u001b[38;5;28;01mfor\u001b[39;00m (key, val) \u001b[38;5;129;01min\u001b[39;00m args.items()}\n",
      "\u001b[36mFile \u001b[39m\u001b[32m~/Documents/ProjetsApps/TrackPharmic/env4/lib/python3.11/site-packages/pymysql/connections.py:530\u001b[39m, in \u001b[36mConnection.literal\u001b[39m\u001b[34m(self, obj)\u001b[39m\n\u001b[32m    525\u001b[39m \u001b[38;5;28;01mdef\u001b[39;00m\u001b[38;5;250m \u001b[39m\u001b[34mliteral\u001b[39m(\u001b[38;5;28mself\u001b[39m, obj):\n\u001b[32m    526\u001b[39m \u001b[38;5;250m    \u001b[39m\u001b[33;03m\"\"\"Alias for escape().\u001b[39;00m\n\u001b[32m    527\u001b[39m \n\u001b[32m    528\u001b[39m \u001b[33;03m    Non-standard, for internal use; do not use this in your applications.\u001b[39;00m\n\u001b[32m    529\u001b[39m \u001b[33;03m    \"\"\"\u001b[39;00m\n\u001b[32m--> \u001b[39m\u001b[32m530\u001b[39m     \u001b[38;5;28;01mreturn\u001b[39;00m \u001b[38;5;28;43mself\u001b[39;49m\u001b[43m.\u001b[49m\u001b[43mescape\u001b[49m\u001b[43m(\u001b[49m\u001b[43mobj\u001b[49m\u001b[43m,\u001b[49m\u001b[43m \u001b[49m\u001b[38;5;28;43mself\u001b[39;49m\u001b[43m.\u001b[49m\u001b[43mencoders\u001b[49m\u001b[43m)\u001b[49m\n",
      "\u001b[36mFile \u001b[39m\u001b[32m~/Documents/ProjetsApps/TrackPharmic/env4/lib/python3.11/site-packages/pymysql/connections.py:523\u001b[39m, in \u001b[36mConnection.escape\u001b[39m\u001b[34m(self, obj, mapping)\u001b[39m\n\u001b[32m    521\u001b[39m         ret = \u001b[33m\"\u001b[39m\u001b[33m_binary\u001b[39m\u001b[33m\"\u001b[39m + ret\n\u001b[32m    522\u001b[39m     \u001b[38;5;28;01mreturn\u001b[39;00m ret\n\u001b[32m--> \u001b[39m\u001b[32m523\u001b[39m \u001b[38;5;28;01mreturn\u001b[39;00m \u001b[43mconverters\u001b[49m\u001b[43m.\u001b[49m\u001b[43mescape_item\u001b[49m\u001b[43m(\u001b[49m\u001b[43mobj\u001b[49m\u001b[43m,\u001b[49m\u001b[43m \u001b[49m\u001b[38;5;28;43mself\u001b[39;49m\u001b[43m.\u001b[49m\u001b[43mcharset\u001b[49m\u001b[43m,\u001b[49m\u001b[43m \u001b[49m\u001b[43mmapping\u001b[49m\u001b[43m=\u001b[49m\u001b[43mmapping\u001b[49m\u001b[43m)\u001b[49m\n",
      "\u001b[36mFile \u001b[39m\u001b[32m~/Documents/ProjetsApps/TrackPharmic/env4/lib/python3.11/site-packages/pymysql/converters.py:25\u001b[39m, in \u001b[36mescape_item\u001b[39m\u001b[34m(val, charset, mapping)\u001b[39m\n\u001b[32m     23\u001b[39m     val = encoder(val, charset, mapping)\n\u001b[32m     24\u001b[39m \u001b[38;5;28;01melse\u001b[39;00m:\n\u001b[32m---> \u001b[39m\u001b[32m25\u001b[39m     val = \u001b[43mencoder\u001b[49m\u001b[43m(\u001b[49m\u001b[43mval\u001b[49m\u001b[43m,\u001b[49m\u001b[43m \u001b[49m\u001b[43mmapping\u001b[49m\u001b[43m)\u001b[49m\n\u001b[32m     26\u001b[39m \u001b[38;5;28;01mreturn\u001b[39;00m val\n",
      "\u001b[36mFile \u001b[39m\u001b[32m~/Documents/ProjetsApps/TrackPharmic/env4/lib/python3.11/site-packages/pymysql/converters.py:56\u001b[39m, in \u001b[36mescape_float\u001b[39m\u001b[34m(value, mapping)\u001b[39m\n\u001b[32m     54\u001b[39m s = \u001b[38;5;28mrepr\u001b[39m(value)\n\u001b[32m     55\u001b[39m \u001b[38;5;28;01mif\u001b[39;00m s \u001b[38;5;129;01min\u001b[39;00m (\u001b[33m\"\u001b[39m\u001b[33minf\u001b[39m\u001b[33m\"\u001b[39m, \u001b[33m\"\u001b[39m\u001b[33m-inf\u001b[39m\u001b[33m\"\u001b[39m, \u001b[33m\"\u001b[39m\u001b[33mnan\u001b[39m\u001b[33m\"\u001b[39m):\n\u001b[32m---> \u001b[39m\u001b[32m56\u001b[39m     \u001b[38;5;28;01mraise\u001b[39;00m ProgrammingError(\u001b[33m\"\u001b[39m\u001b[38;5;132;01m%s\u001b[39;00m\u001b[33m can not be used with MySQL\u001b[39m\u001b[33m\"\u001b[39m % s)\n\u001b[32m     57\u001b[39m \u001b[38;5;28;01mif\u001b[39;00m \u001b[33m\"\u001b[39m\u001b[33me\u001b[39m\u001b[33m\"\u001b[39m \u001b[38;5;129;01mnot\u001b[39;00m \u001b[38;5;129;01min\u001b[39;00m s:\n\u001b[32m     58\u001b[39m     s += \u001b[33m\"\u001b[39m\u001b[33me0\u001b[39m\u001b[33m\"\u001b[39m\n",
      "\u001b[31mProgrammingError\u001b[39m: nan can not be used with MySQL"
     ]
    }
   ],
   "source": [
    "conn = pymysql.connect(\n",
    "                    host=host, user=user, password=password, database=database\n",
    "                )   \n",
    "for index, values in data_to_add.iterrows():\n",
    "    Code_EAN_13 = values.get(\"Code_EAN_13\")\n",
    "    Nom = values.get(\"Nom\")\n",
    "    Image_URL = values.get(\"Image URL\")\n",
    "    Présentation = values.get(\"Présentation\")\n",
    "    Dosage = values.get(\"Dosage\") if pd.notna(values.get(\"Dosage\")) else \"\"\n",
    "    Distributeur_ou_fabriquant = values.get(\"Distributeur ou fabriquant\")\n",
    "    Composition = values.get(\"Composition\")\n",
    "    Classe_thérapeutique = values.get(\"Classe thérapeutique\") if pd.notna(values.get(\"Classe thérapeutique\")) else \"\"\n",
    "    Statut = values.get(\"Statut\")\n",
    "    Code_ATC = values.get(\"Code ATC\") if pd.notna(values.get(\"Code ATC\")) else \"\"\n",
    "    PPV = values.get(\"PPV\")\n",
    "    Prix_hospitalier = values.get(\"Prix hospitalier\") if pd.notna(values.get(\"Prix hospitalier\")) else 0\n",
    "    Tableau = values.get(\"Tableau\") if pd.notna(values.get(\"Tableau\")) else \"\"\n",
    "    Indications = values.get(\"Indication(s)\") if pd.notna(values.get(\"Indication(s)\")) else \"\"\n",
    "    Min_Stock = 0\n",
    "    Stock_Actuel = 0\n",
    "    url_medicament = values.get(\"url\")\n",
    "    cursor = conn.cursor(pymysql.cursors.DictCursor)\n",
    "    cursor.execute(\n",
    "        request,\n",
    "        (\n",
    "            Code_EAN_13,\n",
    "            Nom,\n",
    "            Image_URL,\n",
    "            Présentation,\n",
    "            Dosage,\n",
    "            Distributeur_ou_fabriquant,\n",
    "            Composition,\n",
    "            Classe_thérapeutique,\n",
    "            Statut,\n",
    "            Code_ATC,\n",
    "            PPV,\n",
    "            Prix_hospitalier,\n",
    "            Tableau,\n",
    "            Indications,\n",
    "            Min_Stock,\n",
    "            Stock_Actuel,\n",
    "            url_medicament,\n",
    "        ),\n",
    "    )\n",
    "    conn.commit()\n",
    "\n",
    "    "
   ]
  }
 ],
 "metadata": {
  "kernelspec": {
   "display_name": "env4",
   "language": "python",
   "name": "python3"
  },
  "language_info": {
   "codemirror_mode": {
    "name": "ipython",
    "version": 3
   },
   "file_extension": ".py",
   "mimetype": "text/x-python",
   "name": "python",
   "nbconvert_exporter": "python",
   "pygments_lexer": "ipython3",
   "version": "3.11.8"
  }
 },
 "nbformat": 4,
 "nbformat_minor": 2
}
