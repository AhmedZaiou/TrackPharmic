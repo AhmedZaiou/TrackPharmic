{
 "cells": [
  {
   "cell_type": "code",
   "execution_count": 91,
   "metadata": {},
   "outputs": [],
   "source": [
    "import pandas as pd\n",
    "from bs4 import BeautifulSoup\n",
    "import json\n",
    "import re\n"
   ]
  },
  {
   "cell_type": "code",
   "execution_count": 89,
   "metadata": {},
   "outputs": [],
   "source": [
    "path = \"/Users/ahmedzaiou/Documents/ProjetsApps/TrackPharmic/Datascraping/dictionnaire_new-0-200.json\"\n",
    "\n",
    "def digimonLoad(petName):\n",
    "    dStat = {}\n",
    "    with open(petName) as f:\n",
    "        pet = json.loads(f.read())\n",
    "    return pet\n",
    "    \n",
    "data = digimonLoad(path)"
   ]
  },
  {
   "cell_type": "code",
   "execution_count": 90,
   "metadata": {},
   "outputs": [],
   "source": [
    "def extract_med_info(match):\n",
    "     \n",
    "    soup = BeautifulSoup(match, 'html.parser')\n",
    "    # Créer un dictionnaire pour les données\n",
    "    data = soup.text.split('\\n') \n",
    "    button_data = {\n",
    "        \"Nom\": data[1].split(':')[0].strip(), \n",
    "        \"caracteristique\": data[1].split(':')[1].strip(), \n",
    "        \"Code EAN-13\" : data[3].split(':')[1].strip(),\n",
    "        \"Médicament GENERIQUE\" : data[5].split(' ')[2].strip()\n",
    "    }\n",
    "    return button_data\n",
    "def extract_prices(match):\n",
    "    match= match.replace(\"Substance active (DCI) &amp; dosage\", \"Substance dosage\") \n",
    "    soup = BeautifulSoup(match, 'html.parser')\n",
    "\n",
    "    # Extraire les informations et structurer en JSON\n",
    "    price_officine = soup.find('div', class_='text-danger').get_text(strip=True)\n",
    "    price_public = soup.find(string=\"Prix Public de Vente\").find_next('div').get_text(strip=True)\n",
    "    price_remboursement = soup.find(string=\"Prix base remboursement\").find_next('div').get_text(strip=True)\n",
    "    price_hospitalier = soup.find(string=\"Prix Hospitalier\").find_next('div').get_text(strip=True)\n",
    "    substance_active = soup.find(string=\"Substance dosage \").find_next('div').get_text(strip=True)\n",
    "    classe_therapeutique = soup.find(string=\"Classe Thérapeutique\").find_next('div').get_text(strip=True)\n",
    "\n",
    "    # Créer un dictionnaire pour les données\n",
    "    div_data = {\n",
    "        \"Prix Officine\": price_officine,\n",
    "        \"Prix Public de Vente\": price_public,\n",
    "        \"Prix base remboursement\": price_remboursement,\n",
    "        \"Prix Hospitalier\": price_hospitalier,\n",
    "        \"Substance active (DCI) & dosage\": substance_active,\n",
    "        \"Classe Thérapeutique\": classe_therapeutique\n",
    "    }\n",
    "    return div_data"
   ]
  },
  {
   "cell_type": "code",
   "execution_count": 105,
   "metadata": {},
   "outputs": [],
   "source": [
    "def get_matches(name):\n",
    "    pattern_button = r'<button[^>]*class=\"btn btn-danger btn-block mt-1 text-left\"[^>]*>.*?</button>' \n",
    "    # Extraction des balises correspondantes\n",
    "    matches_b = re.findall(pattern_button, data['CHEMOSET'][1], re.DOTALL) \n",
    "    matches_d = []\n",
    "    for i in range(len(matches_b)-1):\n",
    "        index_1 = data['CHEMOSET'][1].find(matches_b[i])+len(matches_b[i])\n",
    "        index_2 = data['CHEMOSET'][1].find(matches_b[i+1])\n",
    "        matches_d.append(data['CHEMOSET'][1][index_1:index_2])\n",
    "    index_1 = data['CHEMOSET'][1].find(matches_b[-1])+len(matches_b[-1])\n",
    "    index_2 = data['CHEMOSET'][1].find('</div></div><div _ngcontent-tkn-c49=\"\" class=\"col-xl-6 col-lg-6\">')\n",
    "    matches_d.append(data['CHEMOSET'][1][index_1:index_2])\n",
    "    return matches_b, matches_d"
   ]
  },
  {
   "cell_type": "code",
   "execution_count": 109,
   "metadata": {},
   "outputs": [],
   "source": [
    "medicaments = []\n",
    "for i in data: \n",
    "    matches_b, matches_d = get_matches(i)\n",
    "    for match_b,match_d in zip(matches_b, matches_d):\n",
    "        b_json = extract_med_info(match_b)\n",
    "        d_json = extract_prices(match_d) \n",
    "        b_json.update(d_json)\n",
    "        medicaments.append(b_json)\n",
    "\n"
   ]
  },
  {
   "cell_type": "code",
   "execution_count": 113,
   "metadata": {},
   "outputs": [],
   "source": [
    "df = pd.DataFrame(medicaments)\n",
    "    "
   ]
  },
  {
   "cell_type": "code",
   "execution_count": 117,
   "metadata": {},
   "outputs": [],
   "source": [
    "df['Prix Public de Vente'] = df['Prix Public de Vente'].str.replace(' DH', '').astype(float)\n",
    "df['Prix base remboursement'] = df['Prix base remboursement'].str.replace(' DH', '').astype(float)\n",
    "df['Prix Hospitalier'] = df['Prix Hospitalier'].str.replace(' DH', '').astype(float)"
   ]
  },
  {
   "cell_type": "code",
   "execution_count": 119,
   "metadata": {},
   "outputs": [],
   "source": [
    "df.to_csv(\"/Users/ahmedzaiou/Documents/ProjetsApps/TrackPharmic/Datascraping/scrapedData/medicament-0-200.\")"
   ]
  },
  {
   "cell_type": "code",
   "execution_count": null,
   "metadata": {},
   "outputs": [],
   "source": []
  },
  {
   "cell_type": "code",
   "execution_count": 122,
   "metadata": {},
   "outputs": [
    {
     "data": {
      "text/plain": [
       "Index(['Nom', 'caracteristique', 'Code EAN-13', 'Médicament GENERIQUE',\n",
       "       'Prix Officine', 'Prix Public de Vente', 'Prix base remboursement',\n",
       "       'Prix Hospitalier', 'Substance active (DCI) & dosage',\n",
       "       'Classe Thérapeutique'],\n",
       "      dtype='object')"
      ]
     },
     "execution_count": 122,
     "metadata": {},
     "output_type": "execute_result"
    }
   ],
   "source": [
    "df.columns"
   ]
  },
  {
   "cell_type": "code",
   "execution_count": null,
   "metadata": {},
   "outputs": [],
   "source": []
  },
  {
   "cell_type": "code",
   "execution_count": null,
   "metadata": {},
   "outputs": [],
   "source": []
  },
  {
   "cell_type": "code",
   "execution_count": null,
   "metadata": {},
   "outputs": [],
   "source": []
  },
  {
   "cell_type": "code",
   "execution_count": null,
   "metadata": {},
   "outputs": [],
   "source": []
  }
 ],
 "metadata": {
  "kernelspec": {
   "display_name": "env",
   "language": "python",
   "name": "python3"
  },
  "language_info": {
   "codemirror_mode": {
    "name": "ipython",
    "version": 3
   },
   "file_extension": ".py",
   "mimetype": "text/x-python",
   "name": "python",
   "nbconvert_exporter": "python",
   "pygments_lexer": "ipython3",
   "version": "3.11.7"
  }
 },
 "nbformat": 4,
 "nbformat_minor": 2
}
