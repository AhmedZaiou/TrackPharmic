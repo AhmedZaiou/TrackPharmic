{
 "cells": [
  {
   "cell_type": "code",
   "execution_count": 91,
   "metadata": {},
   "outputs": [],
   "source": [
    "import pandas as pd\n",
    "from bs4 import BeautifulSoup\n",
    "import json\n",
    "import re\n"
   ]
  },
  {
   "cell_type": "code",
   "execution_count": 89,
   "metadata": {},
   "outputs": [],
   "source": [
    "path = \"/Users/ahmedzaiou/Documents/ProjetsApps/TrackPharmic/Datascraping/dictionnaire_new-0-200.json\"\n",
    "\n",
    "def digimonLoad(petName):\n",
    "    dStat = {}\n",
    "    with open(petName) as f:\n",
    "        pet = json.loads(f.read())\n",
    "    return pet\n",
    "    \n",
    "data = digimonLoad(path)"
   ]
  },
  {
   "cell_type": "code",
   "execution_count": 90,
   "metadata": {},
   "outputs": [],
   "source": [
    "def extract_med_info(match):\n",
    "     \n",
    "    soup = BeautifulSoup(match, 'html.parser')\n",
    "    # Créer un dictionnaire pour les données\n",
    "    data = soup.text.split('\\n') \n",
    "    button_data = {\n",
    "        \"Nom\": data[1].split(':')[0].strip(), \n",
    "        \"caracteristique\": data[1].split(':')[1].strip(), \n",
    "        \"Code EAN-13\" : data[3].split(':')[1].strip(),\n",
    "        \"Médicament GENERIQUE\" : data[5].split(' ')[2].strip()\n",
    "    }\n",
    "    return button_data\n",
    "def extract_prices(match):\n",
    "    match= match.replace(\"Substance active (DCI) &amp; dosage\", \"Substance dosage\") \n",
    "    soup = BeautifulSoup(match, 'html.parser')\n",
    "\n",
    "    # Extraire les informations et structurer en JSON\n",
    "    price_officine = soup.find('div', class_='text-danger').get_text(strip=True)\n",
    "    price_public = soup.find(string=\"Prix Public de Vente\").find_next('div').get_text(strip=True)\n",
    "    price_remboursement = soup.find(string=\"Prix base remboursement\").find_next('div').get_text(strip=True)\n",
    "    price_hospitalier = soup.find(string=\"Prix Hospitalier\").find_next('div').get_text(strip=True)\n",
    "    substance_active = soup.find(string=\"Substance dosage \").find_next('div').get_text(strip=True)\n",
    "    classe_therapeutique = soup.find(string=\"Classe Thérapeutique\").find_next('div').get_text(strip=True)\n",
    "\n",
    "    # Créer un dictionnaire pour les données\n",
    "    div_data = {\n",
    "        \"Prix Officine\": price_officine,\n",
    "        \"Prix Public de Vente\": price_public,\n",
    "        \"Prix base remboursement\": price_remboursement,\n",
    "        \"Prix Hospitalier\": price_hospitalier,\n",
    "        \"Substance active (DCI) & dosage\": substance_active,\n",
    "        \"Classe Thérapeutique\": classe_therapeutique\n",
    "    }\n",
    "    return div_data"
   ]
  },
  {
   "cell_type": "code",
   "execution_count": 105,
   "metadata": {},
   "outputs": [],
   "source": [
    "def get_matches(name):\n",
    "    pattern_button = r'<button[^>]*class=\"btn btn-danger btn-block mt-1 text-left\"[^>]*>.*?</button>' \n",
    "    # Extraction des balises correspondantes\n",
    "    matches_b = re.findall(pattern_button, data['CHEMOSET'][1], re.DOTALL) \n",
    "    matches_d = []\n",
    "    for i in range(len(matches_b)-1):\n",
    "        index_1 = data['CHEMOSET'][1].find(matches_b[i])+len(matches_b[i])\n",
    "        index_2 = data['CHEMOSET'][1].find(matches_b[i+1])\n",
    "        matches_d.append(data['CHEMOSET'][1][index_1:index_2])\n",
    "    index_1 = data['CHEMOSET'][1].find(matches_b[-1])+len(matches_b[-1])\n",
    "    index_2 = data['CHEMOSET'][1].find('</div></div><div _ngcontent-tkn-c49=\"\" class=\"col-xl-6 col-lg-6\">')\n",
    "    matches_d.append(data['CHEMOSET'][1][index_1:index_2])\n",
    "    return matches_b, matches_d"
   ]
  },
  {
   "cell_type": "code",
   "execution_count": 109,
   "metadata": {},
   "outputs": [],
   "source": [
    "medicaments = []\n",
    "for i in data: \n",
    "    matches_b, matches_d = get_matches(i)\n",
    "    for match_b,match_d in zip(matches_b, matches_d):\n",
    "        b_json = extract_med_info(match_b)\n",
    "        d_json = extract_prices(match_d) \n",
    "        b_json.update(d_json)\n",
    "        medicaments.append(b_json)\n",
    "\n"
   ]
  },
  {
   "cell_type": "code",
   "execution_count": 113,
   "metadata": {},
   "outputs": [],
   "source": [
    "df = pd.DataFrame(medicaments)\n",
    "    "
   ]
  },
  {
   "cell_type": "code",
   "execution_count": 117,
   "metadata": {},
   "outputs": [],
   "source": [
    "df['Prix Public de Vente'] = df['Prix Public de Vente'].str.replace(' DH', '').astype(float)\n",
    "df['Prix base remboursement'] = df['Prix base remboursement'].str.replace(' DH', '').astype(float)\n",
    "df['Prix Hospitalier'] = df['Prix Hospitalier'].str.replace(' DH', '').astype(float)"
   ]
  },
  {
   "cell_type": "code",
   "execution_count": 165,
   "metadata": {},
   "outputs": [],
   "source": [
    "df.to_csv(\"/Users/ahmedzaiou/Documents/ProjetsApps/TrackPharmic/Datascraping/scrapedData/medicament-0-200.csv\")"
   ]
  },
  {
   "cell_type": "code",
   "execution_count": null,
   "metadata": {},
   "outputs": [],
   "source": []
  },
  {
   "cell_type": "code",
   "execution_count": 122,
   "metadata": {},
   "outputs": [
    {
     "data": {
      "text/plain": [
       "Index(['Nom', 'caracteristique', 'Code EAN-13', 'Médicament GENERIQUE',\n",
       "       'Prix Officine', 'Prix Public de Vente', 'Prix base remboursement',\n",
       "       'Prix Hospitalier', 'Substance active (DCI) & dosage',\n",
       "       'Classe Thérapeutique'],\n",
       "      dtype='object')"
      ]
     },
     "execution_count": 122,
     "metadata": {},
     "output_type": "execute_result"
    }
   ],
   "source": [
    "df.columns"
   ]
  },
  {
   "cell_type": "code",
   "execution_count": 1,
   "metadata": {},
   "outputs": [],
   "source": [
    "from pathlib import Path \n",
    "import sqlite3\n",
    " \n",
    " \n",
    "\n",
    "Tracpharmic = Path.home()/\"Tracpharmic\"\n",
    "\n",
    "images = Tracpharmic/\"images\"\n",
    "\n",
    "dataset = Tracpharmic/\"dataset\"/\"pharmadataset.db\"\n",
    "\n",
    "\n",
    "name_application = \"TracPharmic\"  "
   ]
  },
  {
   "cell_type": "code",
   "execution_count": 10,
   "metadata": {},
   "outputs": [],
   "source": [
    "def create_table_medicament():\n",
    "    with sqlite3.connect( dataset) as conn:\n",
    "        cursor = conn.cursor()\n",
    "        cursor.execute(\"\"\"\n",
    "            CREATE TABLE IF NOT EXISTS Medicament (\n",
    "                ID_Medicament INTEGER PRIMARY KEY AUTOINCREMENT,\n",
    "                Nom TEXT,\n",
    "                caracteristique TEXT,\n",
    "                Code_EAN_13 TEXT UNIQUE,\n",
    "                Medicament_GENERIQUE TEXT,\n",
    "                Prix_Officine TEXT,\n",
    "                Prix_Public_de_Vente REAL,\n",
    "                Prix_base_remboursement REAL,\n",
    "                Prix_Hospitalier REAL,\n",
    "                Substance_active_DCI TEXT,\n",
    "                Classe_Therapeutique TEXT\n",
    "            )\n",
    "        \"\"\")\n",
    "def drop_table_medicament():\n",
    "    with sqlite3.connect( dataset) as conn:\n",
    "        cursor = conn.cursor()\n",
    "        cursor.execute(\"\"\"DROP TABLE Medicament; \n",
    "        \"\"\")\n",
    "\n",
    "\n",
    "def ajouter_medicament(nom, caracteristique, code_ean_13, medicament_generique, prix_officine, prix_public_de_vente,\n",
    "                       prix_base_remboursement, prix_hospitalier, substance_active_dci, classe_therapeutique):\n",
    "    with sqlite3.connect( dataset) as conn:\n",
    "        cursor = conn.cursor()\n",
    "        cursor.execute(\"\"\"\n",
    "            INSERT INTO Medicament (\n",
    "                Nom, caracteristique, Code_EAN_13, Medicament_GENERIQUE, Prix_Officine, Prix_Public_de_Vente,\n",
    "                Prix_base_remboursement, Prix_Hospitalier, Substance_active_DCI, Classe_Therapeutique\n",
    "            ) VALUES (?, ?, ?, ?, ?, ?, ?, ?, ?, ?)\n",
    "        \"\"\", (nom, caracteristique, code_ean_13, medicament_generique, prix_officine, prix_public_de_vente,\n",
    "              prix_base_remboursement, prix_hospitalier, substance_active_dci, classe_therapeutique))"
   ]
  },
  {
   "cell_type": "code",
   "execution_count": 3,
   "metadata": {},
   "outputs": [],
   "source": [
    "import pandas as df"
   ]
  },
  {
   "cell_type": "code",
   "execution_count": 12,
   "metadata": {},
   "outputs": [],
   "source": [
    "data = df.read_csv(\"/Users/ahmedzaiou/Documents/ProjetsApps/TrackPharmic/Datascraping/scrapedData/medicament-0-200.csv\")"
   ]
  },
  {
   "cell_type": "code",
   "execution_count": 13,
   "metadata": {},
   "outputs": [],
   "source": [
    "create_table_medicament()"
   ]
  },
  {
   "cell_type": "code",
   "execution_count": 14,
   "metadata": {},
   "outputs": [],
   "source": [
    "data = data.drop(columns=['Unnamed: 0.1',\"Unnamed: 0\"])"
   ]
  },
  {
   "cell_type": "code",
   "execution_count": 11,
   "metadata": {},
   "outputs": [],
   "source": [
    "drop_table_medicament()"
   ]
  },
  {
   "cell_type": "code",
   "execution_count": 15,
   "metadata": {},
   "outputs": [],
   "source": [
    "data = data.drop_duplicates(subset='Code EAN-13')"
   ]
  },
  {
   "cell_type": "code",
   "execution_count": 16,
   "metadata": {},
   "outputs": [],
   "source": [
    "for index, row in  data.iterrows():\n",
    "    item = []\n",
    "    for i in row.keys():\n",
    "        \n",
    "        if 'Unnamed: 0' != i: \n",
    "            item.append(row[i])\n",
    "    ajouter_medicament(item[0],item[1],item[2],item[3],item[4],item[5],item[6],item[7],item[8],item[9])\n",
    "    \n",
    "    \n",
    "    "
   ]
  },
  {
   "cell_type": "code",
   "execution_count": 17,
   "metadata": {},
   "outputs": [
    {
     "data": {
      "text/html": [
       "<div>\n",
       "<style scoped>\n",
       "    .dataframe tbody tr th:only-of-type {\n",
       "        vertical-align: middle;\n",
       "    }\n",
       "\n",
       "    .dataframe tbody tr th {\n",
       "        vertical-align: top;\n",
       "    }\n",
       "\n",
       "    .dataframe thead th {\n",
       "        text-align: right;\n",
       "    }\n",
       "</style>\n",
       "<table border=\"1\" class=\"dataframe\">\n",
       "  <thead>\n",
       "    <tr style=\"text-align: right;\">\n",
       "      <th></th>\n",
       "      <th>Nom</th>\n",
       "      <th>caracteristique</th>\n",
       "      <th>Code EAN-13</th>\n",
       "      <th>Médicament GENERIQUE</th>\n",
       "      <th>Prix Officine</th>\n",
       "      <th>Prix Public de Vente</th>\n",
       "      <th>Prix base remboursement</th>\n",
       "      <th>Prix Hospitalier</th>\n",
       "      <th>Substance active (DCI) &amp; dosage</th>\n",
       "      <th>Classe Thérapeutique</th>\n",
       "    </tr>\n",
       "  </thead>\n",
       "  <tbody>\n",
       "    <tr>\n",
       "      <th>0</th>\n",
       "      <td>CHEMOSET</td>\n",
       "      <td>1 BOITE 10 COMPRIME PELLICULE COMPRIME PELLICU...</td>\n",
       "      <td>6118001250585</td>\n",
       "      <td>Remboursable</td>\n",
       "      <td>Prix Officine ( Pharmacie )</td>\n",
       "      <td>175.7</td>\n",
       "      <td>175.7</td>\n",
       "      <td>109.8</td>\n",
       "      <td>ONDANSETRON</td>\n",
       "      <td>ANTIEMETIQUE</td>\n",
       "    </tr>\n",
       "    <tr>\n",
       "      <th>1</th>\n",
       "      <td>CHEMOSET</td>\n",
       "      <td>1 BOITE 10 COMPRIME PELLICULE COMPRIME PELLICU...</td>\n",
       "      <td>6118001250615</td>\n",
       "      <td>Remboursable</td>\n",
       "      <td>Prix Officine ( Pharmacie )</td>\n",
       "      <td>175.7</td>\n",
       "      <td>175.7</td>\n",
       "      <td>109.8</td>\n",
       "      <td>ONDANSETRON</td>\n",
       "      <td>ANTIEMETIQUE</td>\n",
       "    </tr>\n",
       "    <tr>\n",
       "      <th>2</th>\n",
       "      <td>CHEMOSET</td>\n",
       "      <td>1 BOITE 1 COMPRIME PELLICULE COMPRIME PELLICUL...</td>\n",
       "      <td>6118001250592</td>\n",
       "      <td>Remboursable</td>\n",
       "      <td>Prix Officine ( Pharmacie )</td>\n",
       "      <td>175.7</td>\n",
       "      <td>175.7</td>\n",
       "      <td>109.8</td>\n",
       "      <td>ONDANSETRON</td>\n",
       "      <td>ANTIEMETIQUE</td>\n",
       "    </tr>\n",
       "    <tr>\n",
       "      <th>3</th>\n",
       "      <td>CHEMOSET</td>\n",
       "      <td>1 BOITE 5 COMPRIME PELLICULE COMPRIME PELLICUL...</td>\n",
       "      <td>6118001250608</td>\n",
       "      <td>Remboursable</td>\n",
       "      <td>Prix Officine ( Pharmacie )</td>\n",
       "      <td>175.7</td>\n",
       "      <td>175.7</td>\n",
       "      <td>109.8</td>\n",
       "      <td>ONDANSETRON</td>\n",
       "      <td>ANTIEMETIQUE</td>\n",
       "    </tr>\n",
       "    <tr>\n",
       "      <th>4</th>\n",
       "      <td>CHEMOSET 2MG-ML</td>\n",
       "      <td>5 AMPOULE 4 ML SOLUTION INJECTABLE à 8 MG</td>\n",
       "      <td>6118001250530</td>\n",
       "      <td>Remboursable</td>\n",
       "      <td>Prix Officine ( Pharmacie )</td>\n",
       "      <td>175.7</td>\n",
       "      <td>175.7</td>\n",
       "      <td>109.8</td>\n",
       "      <td>ONDANSETRON</td>\n",
       "      <td>ANTIEMETIQUE</td>\n",
       "    </tr>\n",
       "    <tr>\n",
       "      <th>5</th>\n",
       "      <td>CHEMOSET</td>\n",
       "      <td>1 BOITE 5 COMPRIME PELLICULE COMPRIME PELLICUL...</td>\n",
       "      <td>6118001250578</td>\n",
       "      <td>Remboursable</td>\n",
       "      <td>Prix Officine ( Pharmacie )</td>\n",
       "      <td>175.7</td>\n",
       "      <td>175.7</td>\n",
       "      <td>109.8</td>\n",
       "      <td>ONDANSETRON</td>\n",
       "      <td>ANTIEMETIQUE</td>\n",
       "    </tr>\n",
       "    <tr>\n",
       "      <th>6</th>\n",
       "      <td>CHEMOSET</td>\n",
       "      <td>1 BOITE 1 COMPRIME PELLICULE COMPRIME PELLICUL...</td>\n",
       "      <td>6118001250561</td>\n",
       "      <td>Remboursable</td>\n",
       "      <td>Prix Officine ( Pharmacie )</td>\n",
       "      <td>175.7</td>\n",
       "      <td>175.7</td>\n",
       "      <td>109.8</td>\n",
       "      <td>ONDANSETRON</td>\n",
       "      <td>ANTIEMETIQUE</td>\n",
       "    </tr>\n",
       "    <tr>\n",
       "      <th>7</th>\n",
       "      <td>CHEMOSET 2MG-ML</td>\n",
       "      <td>5 AMPOULE 2 ML SOLUTION INJECTABLE à 4 MG</td>\n",
       "      <td>6118001250547</td>\n",
       "      <td>Remboursable</td>\n",
       "      <td>Prix Officine ( Pharmacie )</td>\n",
       "      <td>175.7</td>\n",
       "      <td>175.7</td>\n",
       "      <td>109.8</td>\n",
       "      <td>ONDANSETRON</td>\n",
       "      <td>ANTIEMETIQUE</td>\n",
       "    </tr>\n",
       "  </tbody>\n",
       "</table>\n",
       "</div>"
      ],
      "text/plain": [
       "               Nom                                    caracteristique  \\\n",
       "0         CHEMOSET  1 BOITE 10 COMPRIME PELLICULE COMPRIME PELLICU...   \n",
       "1         CHEMOSET  1 BOITE 10 COMPRIME PELLICULE COMPRIME PELLICU...   \n",
       "2         CHEMOSET  1 BOITE 1 COMPRIME PELLICULE COMPRIME PELLICUL...   \n",
       "3         CHEMOSET  1 BOITE 5 COMPRIME PELLICULE COMPRIME PELLICUL...   \n",
       "4  CHEMOSET 2MG-ML          5 AMPOULE 4 ML SOLUTION INJECTABLE à 8 MG   \n",
       "5         CHEMOSET  1 BOITE 5 COMPRIME PELLICULE COMPRIME PELLICUL...   \n",
       "6         CHEMOSET  1 BOITE 1 COMPRIME PELLICULE COMPRIME PELLICUL...   \n",
       "7  CHEMOSET 2MG-ML          5 AMPOULE 2 ML SOLUTION INJECTABLE à 4 MG   \n",
       "\n",
       "     Code EAN-13 Médicament GENERIQUE                Prix Officine  \\\n",
       "0  6118001250585         Remboursable  Prix Officine ( Pharmacie )   \n",
       "1  6118001250615         Remboursable  Prix Officine ( Pharmacie )   \n",
       "2  6118001250592         Remboursable  Prix Officine ( Pharmacie )   \n",
       "3  6118001250608         Remboursable  Prix Officine ( Pharmacie )   \n",
       "4  6118001250530         Remboursable  Prix Officine ( Pharmacie )   \n",
       "5  6118001250578         Remboursable  Prix Officine ( Pharmacie )   \n",
       "6  6118001250561         Remboursable  Prix Officine ( Pharmacie )   \n",
       "7  6118001250547         Remboursable  Prix Officine ( Pharmacie )   \n",
       "\n",
       "   Prix Public de Vente  Prix base remboursement  Prix Hospitalier  \\\n",
       "0                 175.7                    175.7             109.8   \n",
       "1                 175.7                    175.7             109.8   \n",
       "2                 175.7                    175.7             109.8   \n",
       "3                 175.7                    175.7             109.8   \n",
       "4                 175.7                    175.7             109.8   \n",
       "5                 175.7                    175.7             109.8   \n",
       "6                 175.7                    175.7             109.8   \n",
       "7                 175.7                    175.7             109.8   \n",
       "\n",
       "  Substance active (DCI) & dosage Classe Thérapeutique  \n",
       "0                     ONDANSETRON         ANTIEMETIQUE  \n",
       "1                     ONDANSETRON         ANTIEMETIQUE  \n",
       "2                     ONDANSETRON         ANTIEMETIQUE  \n",
       "3                     ONDANSETRON         ANTIEMETIQUE  \n",
       "4                     ONDANSETRON         ANTIEMETIQUE  \n",
       "5                     ONDANSETRON         ANTIEMETIQUE  \n",
       "6                     ONDANSETRON         ANTIEMETIQUE  \n",
       "7                     ONDANSETRON         ANTIEMETIQUE  "
      ]
     },
     "execution_count": 17,
     "metadata": {},
     "output_type": "execute_result"
    }
   ],
   "source": [
    "data"
   ]
  }
 ],
 "metadata": {
  "kernelspec": {
   "display_name": "env",
   "language": "python",
   "name": "python3"
  },
  "language_info": {
   "codemirror_mode": {
    "name": "ipython",
    "version": 3
   },
   "file_extension": ".py",
   "mimetype": "text/x-python",
   "name": "python",
   "nbconvert_exporter": "python",
   "pygments_lexer": "ipython3",
   "version": "3.11.7"
  }
 },
 "nbformat": 4,
 "nbformat_minor": 2
}
