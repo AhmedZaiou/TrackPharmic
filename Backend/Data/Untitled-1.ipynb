{
 "cells": [
  {
   "cell_type": "code",
   "execution_count": 1,
   "metadata": {},
   "outputs": [],
   "source": [
    "import pymysql\n",
    "\n",
    "import pandas as pd"
   ]
  },
  {
   "cell_type": "code",
   "execution_count": 2,
   "metadata": {},
   "outputs": [
    {
     "name": "stdout",
     "output_type": "stream",
     "text": [
      "Collecting openpyxl\n",
      "  Using cached openpyxl-3.1.5-py2.py3-none-any.whl.metadata (2.5 kB)\n",
      "Collecting et-xmlfile (from openpyxl)\n",
      "  Using cached et_xmlfile-2.0.0-py3-none-any.whl.metadata (2.7 kB)\n",
      "Using cached openpyxl-3.1.5-py2.py3-none-any.whl (250 kB)\n",
      "Using cached et_xmlfile-2.0.0-py3-none-any.whl (18 kB)\n",
      "Installing collected packages: et-xmlfile, openpyxl\n",
      "Successfully installed et-xmlfile-2.0.0 openpyxl-3.1.5\n"
     ]
    }
   ],
   "source": [
    "!pip install openpyxl"
   ]
  },
  {
   "cell_type": "code",
   "execution_count": 2,
   "metadata": {},
   "outputs": [],
   "source": [
    "def ajouter_medicament(        nom,        caracteristique,        code_ean_13,        generique,        prix_officine,        prix_public,        prix_remboursement,        prix_hospitalier,        substance_active,        classe_therapeutique,        min_stock,        stock_actuel):\n",
    "        host = \"srv1653.hstgr.io\"\n",
    "        user = \"u454999796_root\"\n",
    "        password = \"Ah@2019@\"\n",
    "        database = \"u454999796_pharma\"\n",
    "        conn = pymysql.connect(\n",
    "            host=host, user=user, password=password, database=database\n",
    "        )\n",
    "        cursor = conn.cursor(pymysql.cursors.DictCursor)\n",
    "        cursor.execute(\n",
    "            \"\"\"\n",
    "        INSERT INTO Medicament (Nom, Caracteristique, Code_EAN_13, Medicament_Generique, Prix_Officine, Prix_Public_De_Vente, Prix_Base_Remboursement, Prix_Hospitalier, Substance_Active_DCI, Classe_Therapeutique, Min_Stock, Stock_Actuel)\n",
    "        VALUES (%s, %s, %s, %s, %s, %s, %s, %s, %s, %s, %s, %s);\n",
    "        \"\"\",\n",
    "            (\n",
    "                nom,\n",
    "                caracteristique,\n",
    "                code_ean_13,\n",
    "                generique,\n",
    "                prix_officine,\n",
    "                prix_public,\n",
    "                prix_remboursement,\n",
    "                prix_hospitalier,\n",
    "                substance_active,\n",
    "                classe_therapeutique,\n",
    "                min_stock,\n",
    "                stock_actuel,\n",
    "            ),\n",
    "        )\n",
    "        conn.commit()\n",
    "        conn.close()"
   ]
  },
  {
   "cell_type": "code",
   "execution_count": null,
   "metadata": {},
   "outputs": [],
   "source": [
    "ajouter_medicament(\n",
    "        nom,\n",
    "        caracteristique,\n",
    "        code_ean_13,\n",
    "        generique,\n",
    "        prix_officine,\n",
    "        prix_public,\n",
    "        prix_remboursement,\n",
    "        prix_hospitalier,\n",
    "        substance_active,\n",
    "        classe_therapeutique,\n",
    "        min_stock,\n",
    "        stock_actuel,\n",
    "    )"
   ]
  },
  {
   "cell_type": "code",
   "execution_count": 3,
   "metadata": {},
   "outputs": [],
   "source": [
    "data = pd.read_excel(\"./ref-des-medicaments-cnops-2014.xlsx\")\n"
   ]
  },
  {
   "cell_type": "code",
   "execution_count": 4,
   "metadata": {},
   "outputs": [
    {
     "data": {
      "text/plain": [
       "Index(['CODE', 'NOM', 'DCI1', 'DOSAGE1', 'UNITE_DOSAGE1', 'FORME',\n",
       "       'PRESENTATION', 'PPV', 'PH', 'PRIX_BR', 'PRINCEPS_GENERIQUE',\n",
       "       'TAUX_REMBOURSEMENT'],\n",
       "      dtype='object')"
      ]
     },
     "execution_count": 4,
     "metadata": {},
     "output_type": "execute_result"
    }
   ],
   "source": [
    "data.columns\n"
   ]
  },
  {
   "cell_type": "code",
   "execution_count": 4,
   "metadata": {},
   "outputs": [],
   "source": [
    "data_list = []\n",
    "for index, row in data.iterrows():\n",
    "    nom = row['NOM'] \n",
    "    caracteristique = f\"{row['PRESENTATION']} - {row['DOSAGE1']} {row['UNITE_DOSAGE1']}\"\n",
    "    code_ean_13 = row['CODE']\n",
    "    generique = row['PRINCEPS_GENERIQUE']\n",
    "    prix_officine = row['PPV']\n",
    "    prix_public =  row['PPV']\n",
    "    prix_remboursement = row['PRIX_BR']\n",
    "    prix_hospitalier  = row['PH']\n",
    "    substance_active =  row['DCI1']\n",
    "    classe_therapeutique = row['FORME']\n",
    "    min_stock = 0\n",
    "    stock_actuel = 0\n",
    "    data_list.append((\n",
    "        nom,\n",
    "        caracteristique,\n",
    "        code_ean_13,\n",
    "        generique,\n",
    "        prix_officine,\n",
    "        prix_public,\n",
    "        prix_remboursement,\n",
    "        prix_hospitalier,\n",
    "        substance_active,\n",
    "        classe_therapeutique,\n",
    "        min_stock,\n",
    "        stock_actuel\n",
    "    ))\n"
   ]
  },
  {
   "cell_type": "code",
   "execution_count": 5,
   "metadata": {},
   "outputs": [
    {
     "data": {
      "text/plain": [
       "5917"
      ]
     },
     "execution_count": 5,
     "metadata": {},
     "output_type": "execute_result"
    }
   ],
   "source": [
    "len(data_list)"
   ]
  },
  {
   "cell_type": "code",
   "execution_count": 6,
   "metadata": {},
   "outputs": [],
   "source": [
    "host = \"srv1653.hstgr.io\"\n",
    "user = \"u454999796_root\"\n",
    "password = \"Ah@2019@\"\n",
    "database = \"u454999796_pharma\"\n",
    "conn = pymysql.connect(\n",
    "    host=host, user=user, password=password, database=database\n",
    ")\n",
    "cursor = conn.cursor(pymysql.cursors.DictCursor)\n",
    "\n",
    "        "
   ]
  },
  {
   "cell_type": "code",
   "execution_count": 7,
   "metadata": {},
   "outputs": [],
   "source": [
    "sql = \"\"\"INSERT INTO Medicament (Nom, Caracteristique, Code_EAN_13, Medicament_Generique, Prix_Officine, Prix_Public_De_Vente, Prix_Base_Remboursement, Prix_Hospitalier, Substance_Active_DCI, Classe_Therapeutique, Min_Stock, Stock_Actuel)\n",
    "        VALUES (%s, %s, %s, %s, %s, %s, %s, %s, %s, %s, %s, %s);\"\"\""
   ]
  },
  {
   "cell_type": "code",
   "execution_count": null,
   "metadata": {},
   "outputs": [],
   "source": []
  },
  {
   "cell_type": "code",
   "execution_count": 8,
   "metadata": {},
   "outputs": [],
   "source": [
    "# Exécution en masse\n",
    "cursor.executemany(sql, data_list)\n",
    "\n",
    "# Validation et fermeture\n",
    "conn.commit()\n",
    "cursor.close()\n",
    "conn.close()"
   ]
  }
 ],
 "metadata": {
  "kernelspec": {
   "display_name": "testenv",
   "language": "python",
   "name": "python3"
  },
  "language_info": {
   "codemirror_mode": {
    "name": "ipython",
    "version": 3
   },
   "file_extension": ".py",
   "mimetype": "text/x-python",
   "name": "python",
   "nbconvert_exporter": "python",
   "pygments_lexer": "ipython3",
   "version": "3.11.7"
  }
 },
 "nbformat": 4,
 "nbformat_minor": 2
}
